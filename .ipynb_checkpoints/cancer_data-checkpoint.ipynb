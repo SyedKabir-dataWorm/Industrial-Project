{
 "cells": [
  {
   "cell_type": "code",
   "execution_count": 1,
   "id": "aa220d7f",
   "metadata": {},
   "outputs": [],
   "source": [
    "import pandas as pd"
   ]
  },
  {
   "cell_type": "code",
   "execution_count": 13,
   "id": "79242498",
   "metadata": {},
   "outputs": [],
   "source": [
    "xls = pd.ExcelFile(\"dataset_cancer.xlsx\")\n",
    "#data = pd.read_excel(xls, 'Table S1a.1',skiprows=[0,1,2,3,4,5])\n",
    "data = xls.parse('Table S1a.1', skiprows=5, index_col=None, na_values=['NA'], head= True)"
   ]
  },
  {
   "cell_type": "code",
   "execution_count": 14,
   "id": "ddb0429b",
   "metadata": {},
   "outputs": [],
   "source": [
    "selected_data = data.iloc[:,1:7]"
   ]
  },
  {
   "cell_type": "code",
   "execution_count": 15,
   "id": "d171a6d9",
   "metadata": {},
   "outputs": [
    {
     "data": {
      "text/html": [
       "<div>\n",
       "<style scoped>\n",
       "    .dataframe tbody tr th:only-of-type {\n",
       "        vertical-align: middle;\n",
       "    }\n",
       "\n",
       "    .dataframe tbody tr th {\n",
       "        vertical-align: top;\n",
       "    }\n",
       "\n",
       "    .dataframe thead th {\n",
       "        text-align: right;\n",
       "    }\n",
       "</style>\n",
       "<table border=\"1\" class=\"dataframe\">\n",
       "  <thead>\n",
       "    <tr style=\"text-align: right;\">\n",
       "      <th></th>\n",
       "      <th>Cancer group/site</th>\n",
       "      <th>Year</th>\n",
       "      <th>Sex</th>\n",
       "      <th>Age group (years)</th>\n",
       "      <th>Count</th>\n",
       "      <th>Age-specific rate\\n(per 100,000)</th>\n",
       "    </tr>\n",
       "  </thead>\n",
       "  <tbody>\n",
       "    <tr>\n",
       "      <th>0</th>\n",
       "      <td>Acute lymphoblastic leukaemia</td>\n",
       "      <td>1982.0</td>\n",
       "      <td>Males</td>\n",
       "      <td>00–04</td>\n",
       "      <td>42.0</td>\n",
       "      <td>7.1</td>\n",
       "    </tr>\n",
       "    <tr>\n",
       "      <th>1</th>\n",
       "      <td>Acute lymphoblastic leukaemia</td>\n",
       "      <td>1982.0</td>\n",
       "      <td>Males</td>\n",
       "      <td>05–09</td>\n",
       "      <td>25.0</td>\n",
       "      <td>4.0</td>\n",
       "    </tr>\n",
       "    <tr>\n",
       "      <th>2</th>\n",
       "      <td>Acute lymphoblastic leukaemia</td>\n",
       "      <td>1982.0</td>\n",
       "      <td>Males</td>\n",
       "      <td>10–14</td>\n",
       "      <td>14.0</td>\n",
       "      <td>2.0</td>\n",
       "    </tr>\n",
       "    <tr>\n",
       "      <th>3</th>\n",
       "      <td>Acute lymphoblastic leukaemia</td>\n",
       "      <td>1982.0</td>\n",
       "      <td>Males</td>\n",
       "      <td>15–19</td>\n",
       "      <td>14.0</td>\n",
       "      <td>2.1</td>\n",
       "    </tr>\n",
       "    <tr>\n",
       "      <th>4</th>\n",
       "      <td>Acute lymphoblastic leukaemia</td>\n",
       "      <td>1982.0</td>\n",
       "      <td>Males</td>\n",
       "      <td>20–24</td>\n",
       "      <td>5.0</td>\n",
       "      <td>0.7</td>\n",
       "    </tr>\n",
       "    <tr>\n",
       "      <th>...</th>\n",
       "      <td>...</td>\n",
       "      <td>...</td>\n",
       "      <td>...</td>\n",
       "      <td>...</td>\n",
       "      <td>...</td>\n",
       "      <td>...</td>\n",
       "    </tr>\n",
       "    <tr>\n",
       "      <th>208014</th>\n",
       "      <td>NaN</td>\n",
       "      <td>NaN</td>\n",
       "      <td>NaN</td>\n",
       "      <td>NaN</td>\n",
       "      <td>NaN</td>\n",
       "      <td>NaN</td>\n",
       "    </tr>\n",
       "    <tr>\n",
       "      <th>208015</th>\n",
       "      <td>NaN</td>\n",
       "      <td>NaN</td>\n",
       "      <td>NaN</td>\n",
       "      <td>NaN</td>\n",
       "      <td>NaN</td>\n",
       "      <td>NaN</td>\n",
       "    </tr>\n",
       "    <tr>\n",
       "      <th>208016</th>\n",
       "      <td>NaN</td>\n",
       "      <td>NaN</td>\n",
       "      <td>NaN</td>\n",
       "      <td>NaN</td>\n",
       "      <td>NaN</td>\n",
       "      <td>NaN</td>\n",
       "    </tr>\n",
       "    <tr>\n",
       "      <th>208017</th>\n",
       "      <td>NaN</td>\n",
       "      <td>NaN</td>\n",
       "      <td>NaN</td>\n",
       "      <td>NaN</td>\n",
       "      <td>NaN</td>\n",
       "      <td>NaN</td>\n",
       "    </tr>\n",
       "    <tr>\n",
       "      <th>208018</th>\n",
       "      <td>NaN</td>\n",
       "      <td>NaN</td>\n",
       "      <td>NaN</td>\n",
       "      <td>NaN</td>\n",
       "      <td>NaN</td>\n",
       "      <td>NaN</td>\n",
       "    </tr>\n",
       "  </tbody>\n",
       "</table>\n",
       "<p>208019 rows × 6 columns</p>\n",
       "</div>"
      ],
      "text/plain": [
       "                    Cancer group/site    Year    Sex Age group (years)  Count  \\\n",
       "0       Acute lymphoblastic leukaemia  1982.0  Males             00–04   42.0   \n",
       "1       Acute lymphoblastic leukaemia  1982.0  Males             05–09   25.0   \n",
       "2       Acute lymphoblastic leukaemia  1982.0  Males             10–14   14.0   \n",
       "3       Acute lymphoblastic leukaemia  1982.0  Males             15–19   14.0   \n",
       "4       Acute lymphoblastic leukaemia  1982.0  Males             20–24    5.0   \n",
       "...                               ...     ...    ...               ...    ...   \n",
       "208014                            NaN     NaN    NaN               NaN    NaN   \n",
       "208015                            NaN     NaN    NaN               NaN    NaN   \n",
       "208016                            NaN     NaN    NaN               NaN    NaN   \n",
       "208017                            NaN     NaN    NaN               NaN    NaN   \n",
       "208018                            NaN     NaN    NaN               NaN    NaN   \n",
       "\n",
       "        Age-specific rate\\n(per 100,000)  \n",
       "0                                    7.1  \n",
       "1                                    4.0  \n",
       "2                                    2.0  \n",
       "3                                    2.1  \n",
       "4                                    0.7  \n",
       "...                                  ...  \n",
       "208014                               NaN  \n",
       "208015                               NaN  \n",
       "208016                               NaN  \n",
       "208017                               NaN  \n",
       "208018                               NaN  \n",
       "\n",
       "[208019 rows x 6 columns]"
      ]
     },
     "execution_count": 15,
     "metadata": {},
     "output_type": "execute_result"
    }
   ],
   "source": [
    "selected_data"
   ]
  },
  {
   "cell_type": "code",
   "execution_count": 16,
   "id": "2aa14a92",
   "metadata": {},
   "outputs": [],
   "source": [
    "clean_data = selected_data.loc[selected_data['Cancer group/site'].isin(['Melanoma of the skin','Non-melanoma skin cancer (rare types)'])]"
   ]
  },
  {
   "cell_type": "code",
   "execution_count": 17,
   "id": "2f936cd2",
   "metadata": {},
   "outputs": [],
   "source": [
    "cleaner_data = clean_data.loc[clean_data['Year'].isin([2002,2003,2004,2005,2006,2007,2008,2009,\\\n",
    "2010,2011,2012,2013,2014,2015,2016,2017,2018,2019,2020,2021,2022])]"
   ]
  },
  {
   "cell_type": "code",
   "execution_count": 20,
   "id": "1aaf311d",
   "metadata": {},
   "outputs": [],
   "source": [
    "final_data = cleaner_data[cleaner_data['Age group (years)'] != 'All ages combined']"
   ]
  },
  {
   "cell_type": "code",
   "execution_count": 24,
   "id": "d109b775",
   "metadata": {},
   "outputs": [],
   "source": [
    "simple_data = cleaner_data[cleaner_data['Age group (years)'] == 'All ages combined']"
   ]
  },
  {
   "cell_type": "code",
   "execution_count": 26,
   "id": "50bd29a4",
   "metadata": {},
   "outputs": [
    {
     "data": {
      "text/plain": [
       "<AxesSubplot:xlabel='Year'>"
      ]
     },
     "execution_count": 26,
     "metadata": {},
     "output_type": "execute_result"
    },
    {
     "data": {
      "image/png": "[encoded data removed]",
      "text/plain": [
       "<Figure size 432x288 with 1 Axes>"
      ]
     },
     "metadata": {
      "needs_background": "light"
     },
     "output_type": "display_data"
    }
   ],
   "source": [
    "pd.pivot_table(simple_data.reset_index(),\n",
    "               index='Year', values='Count'\n",
    "              ).plot(subplots=False)"
   ]
  },
  {
   "cell_type": "code",
   "execution_count": 22,
   "id": "b743334e",
   "metadata": {},
   "outputs": [],
   "source": [
    "import matplotlib.pyplot as plt"
   ]
  },
  {
   "cell_type": "code",
   "execution_count": null,
   "id": "cee61eee",
   "metadata": {},
   "outputs": [],
   "source": []
  }
 ],
 "metadata": {
  "kernelspec": {
   "display_name": "Python 3 (ipykernel)",
   "language": "python",
   "name": "python3"
  },
  "language_info": {
   "codemirror_mode": {
    "name": "ipython",
    "version": 3
   },
   "file_extension": ".py",
   "mimetype": "text/x-python",
   "name": "python",
   "nbconvert_exporter": "python",
   "pygments_lexer": "ipython3",
   "version": "3.8.12"
  },
  "toc": {
   "base_numbering": 1,
   "nav_menu": {},
   "number_sections": true,
   "sideBar": true,
   "skip_h1_title": false,
   "title_cell": "Table of Contents",
   "title_sidebar": "Contents",
   "toc_cell": false,
   "toc_position": {},
   "toc_section_display": true,
   "toc_window_display": false
  }
 },
 "nbformat": 4,
 "nbformat_minor": 5
}
